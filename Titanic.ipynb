{
  "nbformat": 4,
  "nbformat_minor": 0,
  "metadata": {
    "colab": {
      "name": "Titanic.ipynb",
      "provenance": [],
      "collapsed_sections": [],
      "toc_visible": true,
      "mount_file_id": "https://github.com/alirezash97/Titanic/blob/master/Titanic.ipynb",
      "authorship_tag": "ABX9TyPWPuxAa0sEYBO/SOpYBBd5",
      "include_colab_link": true
    },
    "kernelspec": {
      "name": "python3",
      "display_name": "Python 3"
    }
  },
  "cells": [
    {
      "cell_type": "markdown",
      "metadata": {
        "id": "view-in-github",
        "colab_type": "text"
      },
      "source": [
        "<a href=\"https://colab.research.google.com/github/alirezash97/Titanic/blob/master/Titanic.ipynb\" target=\"_parent\"><img src=\"https://colab.research.google.com/assets/colab-badge.svg\" alt=\"Open In Colab\"/></a>"
      ]
    },
    {
      "cell_type": "code",
      "metadata": {
        "id": "DbaES1NkK6Xe",
        "colab_type": "code",
        "outputId": "83564117-d8d7-447a-b39d-2c744d881636",
        "colab": {
          "base_uri": "https://localhost:8080/",
          "height": 195
        }
      },
      "source": [
        "import pandas as pd\n",
        "import numpy as np\n",
        "from sklearn.preprocessing import LabelEncoder\n",
        "\n",
        "\n",
        "trainset = pd.read_csv(\"/content/drive/My Drive/titanic project/train.csv\")\n",
        "testset = pd.read_csv(\"/content/drive/My Drive/titanic project/test.csv\")\n",
        "testset.head()\n",
        "\n",
        "\n",
        "\n"
      ],
      "execution_count": 299,
      "outputs": [
        {
          "output_type": "execute_result",
          "data": {
            "text/html": [
              "<div>\n",
              "<style scoped>\n",
              "    .dataframe tbody tr th:only-of-type {\n",
              "        vertical-align: middle;\n",
              "    }\n",
              "\n",
              "    .dataframe tbody tr th {\n",
              "        vertical-align: top;\n",
              "    }\n",
              "\n",
              "    .dataframe thead th {\n",
              "        text-align: right;\n",
              "    }\n",
              "</style>\n",
              "<table border=\"1\" class=\"dataframe\">\n",
              "  <thead>\n",
              "    <tr style=\"text-align: right;\">\n",
              "      <th></th>\n",
              "      <th>PassengerId</th>\n",
              "      <th>Pclass</th>\n",
              "      <th>Name</th>\n",
              "      <th>Sex</th>\n",
              "      <th>Age</th>\n",
              "      <th>SibSp</th>\n",
              "      <th>Parch</th>\n",
              "      <th>Ticket</th>\n",
              "      <th>Fare</th>\n",
              "      <th>Cabin</th>\n",
              "      <th>Embarked</th>\n",
              "    </tr>\n",
              "  </thead>\n",
              "  <tbody>\n",
              "    <tr>\n",
              "      <th>0</th>\n",
              "      <td>892</td>\n",
              "      <td>3</td>\n",
              "      <td>Kelly, Mr. James</td>\n",
              "      <td>male</td>\n",
              "      <td>34.5</td>\n",
              "      <td>0</td>\n",
              "      <td>0</td>\n",
              "      <td>330911</td>\n",
              "      <td>7.8292</td>\n",
              "      <td>NaN</td>\n",
              "      <td>Q</td>\n",
              "    </tr>\n",
              "    <tr>\n",
              "      <th>1</th>\n",
              "      <td>893</td>\n",
              "      <td>3</td>\n",
              "      <td>Wilkes, Mrs. James (Ellen Needs)</td>\n",
              "      <td>female</td>\n",
              "      <td>47.0</td>\n",
              "      <td>1</td>\n",
              "      <td>0</td>\n",
              "      <td>363272</td>\n",
              "      <td>7.0000</td>\n",
              "      <td>NaN</td>\n",
              "      <td>S</td>\n",
              "    </tr>\n",
              "    <tr>\n",
              "      <th>2</th>\n",
              "      <td>894</td>\n",
              "      <td>2</td>\n",
              "      <td>Myles, Mr. Thomas Francis</td>\n",
              "      <td>male</td>\n",
              "      <td>62.0</td>\n",
              "      <td>0</td>\n",
              "      <td>0</td>\n",
              "      <td>240276</td>\n",
              "      <td>9.6875</td>\n",
              "      <td>NaN</td>\n",
              "      <td>Q</td>\n",
              "    </tr>\n",
              "    <tr>\n",
              "      <th>3</th>\n",
              "      <td>895</td>\n",
              "      <td>3</td>\n",
              "      <td>Wirz, Mr. Albert</td>\n",
              "      <td>male</td>\n",
              "      <td>27.0</td>\n",
              "      <td>0</td>\n",
              "      <td>0</td>\n",
              "      <td>315154</td>\n",
              "      <td>8.6625</td>\n",
              "      <td>NaN</td>\n",
              "      <td>S</td>\n",
              "    </tr>\n",
              "    <tr>\n",
              "      <th>4</th>\n",
              "      <td>896</td>\n",
              "      <td>3</td>\n",
              "      <td>Hirvonen, Mrs. Alexander (Helga E Lindqvist)</td>\n",
              "      <td>female</td>\n",
              "      <td>22.0</td>\n",
              "      <td>1</td>\n",
              "      <td>1</td>\n",
              "      <td>3101298</td>\n",
              "      <td>12.2875</td>\n",
              "      <td>NaN</td>\n",
              "      <td>S</td>\n",
              "    </tr>\n",
              "  </tbody>\n",
              "</table>\n",
              "</div>"
            ],
            "text/plain": [
              "   PassengerId  Pclass  ... Cabin Embarked\n",
              "0          892       3  ...   NaN        Q\n",
              "1          893       3  ...   NaN        S\n",
              "2          894       2  ...   NaN        Q\n",
              "3          895       3  ...   NaN        S\n",
              "4          896       3  ...   NaN        S\n",
              "\n",
              "[5 rows x 11 columns]"
            ]
          },
          "metadata": {
            "tags": []
          },
          "execution_count": 299
        }
      ]
    },
    {
      "cell_type": "code",
      "metadata": {
        "id": "AWRocjNBLOeZ",
        "colab_type": "code",
        "colab": {}
      },
      "source": [
        "def preprocessing(table):\n",
        "    table = table.rename(columns = {'Pclass' : 'TicketClass'})\n",
        "    table = table.drop(['Name','Ticket','Cabin'],axis =1)\n",
        "    table['Sex'].replace({'male': 1, 'female':2 }, inplace=True)\n",
        "    table['Age'].replace({float('NaN'): 29 }, inplace=True)\n",
        "    table['Embarked'].replace({float('NaN'): 0,'S': 1 , 'C': 2, 'Q': 3}, inplace=True)\n",
        "    return table"
      ],
      "execution_count": 0,
      "outputs": []
    },
    {
      "cell_type": "code",
      "metadata": {
        "id": "7T6zAl8OjMVe",
        "colab_type": "code",
        "colab": {}
      },
      "source": [
        "trainset = preprocessing(trainset)\n",
        "testset = preprocessing(testset)"
      ],
      "execution_count": 0,
      "outputs": []
    },
    {
      "cell_type": "code",
      "metadata": {
        "id": "977cJAWT-Yeh",
        "colab_type": "code",
        "colab": {
          "base_uri": "https://localhost:8080/",
          "height": 118
        },
        "outputId": "3558143a-38ca-4cad-c0cf-0629a6909e2f"
      },
      "source": [
        "print(testset.head())"
      ],
      "execution_count": 227,
      "outputs": [
        {
          "output_type": "stream",
          "text": [
            "   PassengerId  TicketClass  Sex   Age  SibSp  Parch     Fare  Embarked\n",
            "0          892            3    1  34.5      0      0   7.8292         3\n",
            "1          893            3    2  47.0      1      0   7.0000         1\n",
            "2          894            2    1  62.0      0      0   9.6875         3\n",
            "3          895            3    1  27.0      0      0   8.6625         1\n",
            "4          896            3    2  22.0      1      1  12.2875         1\n"
          ],
          "name": "stdout"
        }
      ]
    },
    {
      "cell_type": "code",
      "metadata": {
        "id": "JMg9xAYfoCQp",
        "colab_type": "code",
        "outputId": "b6d46a84-156f-41cc-a0e8-62705b53ae1c",
        "colab": {
          "base_uri": "https://localhost:8080/",
          "height": 195
        }
      },
      "source": [
        "trainset = trainset[['PassengerId','TicketClass','Sex','Age','SibSp','Parch','Fare','Embarked','Survived']]\n",
        "trainset.head()"
      ],
      "execution_count": 302,
      "outputs": [
        {
          "output_type": "execute_result",
          "data": {
            "text/html": [
              "<div>\n",
              "<style scoped>\n",
              "    .dataframe tbody tr th:only-of-type {\n",
              "        vertical-align: middle;\n",
              "    }\n",
              "\n",
              "    .dataframe tbody tr th {\n",
              "        vertical-align: top;\n",
              "    }\n",
              "\n",
              "    .dataframe thead th {\n",
              "        text-align: right;\n",
              "    }\n",
              "</style>\n",
              "<table border=\"1\" class=\"dataframe\">\n",
              "  <thead>\n",
              "    <tr style=\"text-align: right;\">\n",
              "      <th></th>\n",
              "      <th>PassengerId</th>\n",
              "      <th>TicketClass</th>\n",
              "      <th>Sex</th>\n",
              "      <th>Age</th>\n",
              "      <th>SibSp</th>\n",
              "      <th>Parch</th>\n",
              "      <th>Fare</th>\n",
              "      <th>Embarked</th>\n",
              "      <th>Survived</th>\n",
              "    </tr>\n",
              "  </thead>\n",
              "  <tbody>\n",
              "    <tr>\n",
              "      <th>0</th>\n",
              "      <td>1</td>\n",
              "      <td>3</td>\n",
              "      <td>1</td>\n",
              "      <td>22.0</td>\n",
              "      <td>1</td>\n",
              "      <td>0</td>\n",
              "      <td>7.2500</td>\n",
              "      <td>1</td>\n",
              "      <td>0</td>\n",
              "    </tr>\n",
              "    <tr>\n",
              "      <th>1</th>\n",
              "      <td>2</td>\n",
              "      <td>1</td>\n",
              "      <td>2</td>\n",
              "      <td>38.0</td>\n",
              "      <td>1</td>\n",
              "      <td>0</td>\n",
              "      <td>71.2833</td>\n",
              "      <td>2</td>\n",
              "      <td>1</td>\n",
              "    </tr>\n",
              "    <tr>\n",
              "      <th>2</th>\n",
              "      <td>3</td>\n",
              "      <td>3</td>\n",
              "      <td>2</td>\n",
              "      <td>26.0</td>\n",
              "      <td>0</td>\n",
              "      <td>0</td>\n",
              "      <td>7.9250</td>\n",
              "      <td>1</td>\n",
              "      <td>1</td>\n",
              "    </tr>\n",
              "    <tr>\n",
              "      <th>3</th>\n",
              "      <td>4</td>\n",
              "      <td>1</td>\n",
              "      <td>2</td>\n",
              "      <td>35.0</td>\n",
              "      <td>1</td>\n",
              "      <td>0</td>\n",
              "      <td>53.1000</td>\n",
              "      <td>1</td>\n",
              "      <td>1</td>\n",
              "    </tr>\n",
              "    <tr>\n",
              "      <th>4</th>\n",
              "      <td>5</td>\n",
              "      <td>3</td>\n",
              "      <td>1</td>\n",
              "      <td>35.0</td>\n",
              "      <td>0</td>\n",
              "      <td>0</td>\n",
              "      <td>8.0500</td>\n",
              "      <td>1</td>\n",
              "      <td>0</td>\n",
              "    </tr>\n",
              "  </tbody>\n",
              "</table>\n",
              "</div>"
            ],
            "text/plain": [
              "   PassengerId  TicketClass  Sex   Age  ...  Parch     Fare  Embarked  Survived\n",
              "0            1            3    1  22.0  ...      0   7.2500         1         0\n",
              "1            2            1    2  38.0  ...      0  71.2833         2         1\n",
              "2            3            3    2  26.0  ...      0   7.9250         1         1\n",
              "3            4            1    2  35.0  ...      0  53.1000         1         1\n",
              "4            5            3    1  35.0  ...      0   8.0500         1         0\n",
              "\n",
              "[5 rows x 9 columns]"
            ]
          },
          "metadata": {
            "tags": []
          },
          "execution_count": 302
        }
      ]
    },
    {
      "cell_type": "code",
      "metadata": {
        "id": "z8pyitUv27G-",
        "colab_type": "code",
        "colab": {
          "base_uri": "https://localhost:8080/",
          "height": 34
        },
        "outputId": "6494b464-7b71-49dc-ea80-6c4e33e3ca32"
      },
      "source": [
        "print(trainset.shape)"
      ],
      "execution_count": 211,
      "outputs": [
        {
          "output_type": "stream",
          "text": [
            "(891, 9)\n"
          ],
          "name": "stdout"
        }
      ]
    },
    {
      "cell_type": "code",
      "metadata": {
        "id": "aIbf42Z_oV0Y",
        "colab_type": "code",
        "colab": {}
      },
      "source": [
        "X_train = trainset.iloc[:,:8]\n",
        "y_train = trainset.iloc[:,8]"
      ],
      "execution_count": 0,
      "outputs": []
    },
    {
      "cell_type": "code",
      "metadata": {
        "id": "0W0SLKEiMFA4",
        "colab_type": "code",
        "outputId": "35b85118-7046-4d51-d6b1-890584282d25",
        "colab": {
          "base_uri": "https://localhost:8080/",
          "height": 286
        }
      },
      "source": [
        "from numpy import loadtxt\n",
        "from keras.models import Sequential, Model\n",
        "from keras.layers import Input, Dense\n",
        "\n",
        "model = Sequential()\n",
        "model.add(Dense(64, input_dim=8, activation='relu'))\n",
        "model.add(Dense(256, activation='relu'))\n",
        "model.add(Dense(128,  activation='relu'))\n",
        "model.add(Dense(1, activation='sigmoid'))\n",
        "model.summary()"
      ],
      "execution_count": 304,
      "outputs": [
        {
          "output_type": "stream",
          "text": [
            "Model: \"sequential_22\"\n",
            "_________________________________________________________________\n",
            "Layer (type)                 Output Shape              Param #   \n",
            "=================================================================\n",
            "dense_119 (Dense)            (None, 64)                576       \n",
            "_________________________________________________________________\n",
            "dense_120 (Dense)            (None, 256)               16640     \n",
            "_________________________________________________________________\n",
            "dense_121 (Dense)            (None, 128)               32896     \n",
            "_________________________________________________________________\n",
            "dense_122 (Dense)            (None, 1)                 129       \n",
            "=================================================================\n",
            "Total params: 50,241\n",
            "Trainable params: 50,241\n",
            "Non-trainable params: 0\n",
            "_________________________________________________________________\n"
          ],
          "name": "stdout"
        }
      ]
    },
    {
      "cell_type": "code",
      "metadata": {
        "id": "_tdyq74qMIME",
        "colab_type": "code",
        "colab": {}
      },
      "source": [
        "model.compile(loss='binary_crossentropy', optimizer='Adam', metrics=['accuracy'])"
      ],
      "execution_count": 0,
      "outputs": []
    },
    {
      "cell_type": "code",
      "metadata": {
        "id": "aKPotOuWKkc4",
        "colab_type": "code",
        "outputId": "7fb23d10-5e40-4d46-e565-14ecc70e39c6",
        "colab": {
          "base_uri": "https://localhost:8080/",
          "height": 1000
        }
      },
      "source": [
        "model.fit(X_train, y_train, epochs=100, batch_size=32)"
      ],
      "execution_count": 306,
      "outputs": [
        {
          "output_type": "stream",
          "text": [
            "Epoch 1/100\n",
            "891/891 [==============================] - 2s 2ms/step - loss: 5.6547 - acc: 0.6061\n",
            "Epoch 2/100\n",
            "891/891 [==============================] - 0s 71us/step - loss: 4.1851 - acc: 0.5993\n",
            "Epoch 3/100\n",
            "891/891 [==============================] - 0s 76us/step - loss: 3.6306 - acc: 0.5724\n",
            "Epoch 4/100\n",
            "891/891 [==============================] - 0s 73us/step - loss: 3.1261 - acc: 0.6016\n",
            "Epoch 5/100\n",
            "891/891 [==============================] - 0s 75us/step - loss: 1.1655 - acc: 0.6218\n",
            "Epoch 6/100\n",
            "891/891 [==============================] - 0s 75us/step - loss: 0.8482 - acc: 0.5993\n",
            "Epoch 7/100\n",
            "891/891 [==============================] - 0s 76us/step - loss: 1.1361 - acc: 0.5769\n",
            "Epoch 8/100\n",
            "891/891 [==============================] - 0s 74us/step - loss: 0.6848 - acc: 0.6667\n",
            "Epoch 9/100\n",
            "891/891 [==============================] - 0s 74us/step - loss: 0.7488 - acc: 0.6487\n",
            "Epoch 10/100\n",
            "891/891 [==============================] - 0s 71us/step - loss: 0.6818 - acc: 0.6611\n",
            "Epoch 11/100\n",
            "891/891 [==============================] - 0s 77us/step - loss: 0.7755 - acc: 0.6532\n",
            "Epoch 12/100\n",
            "891/891 [==============================] - 0s 74us/step - loss: 0.7316 - acc: 0.6296\n",
            "Epoch 13/100\n",
            "891/891 [==============================] - 0s 74us/step - loss: 0.7898 - acc: 0.6341\n",
            "Epoch 14/100\n",
            "891/891 [==============================] - 0s 70us/step - loss: 0.7655 - acc: 0.6105\n",
            "Epoch 15/100\n",
            "891/891 [==============================] - 0s 77us/step - loss: 1.1391 - acc: 0.6016\n",
            "Epoch 16/100\n",
            "891/891 [==============================] - 0s 71us/step - loss: 0.7752 - acc: 0.6779\n",
            "Epoch 17/100\n",
            "891/891 [==============================] - 0s 73us/step - loss: 0.7659 - acc: 0.6554\n",
            "Epoch 18/100\n",
            "891/891 [==============================] - 0s 73us/step - loss: 0.6754 - acc: 0.6622\n",
            "Epoch 19/100\n",
            "891/891 [==============================] - 0s 75us/step - loss: 0.8177 - acc: 0.6442\n",
            "Epoch 20/100\n",
            "891/891 [==============================] - 0s 77us/step - loss: 0.6868 - acc: 0.6543\n",
            "Epoch 21/100\n",
            "891/891 [==============================] - 0s 69us/step - loss: 0.8809 - acc: 0.6510\n",
            "Epoch 22/100\n",
            "891/891 [==============================] - 0s 74us/step - loss: 0.6931 - acc: 0.6734\n",
            "Epoch 23/100\n",
            "891/891 [==============================] - 0s 74us/step - loss: 0.7718 - acc: 0.6442\n",
            "Epoch 24/100\n",
            "891/891 [==============================] - 0s 79us/step - loss: 0.6563 - acc: 0.6700\n",
            "Epoch 25/100\n",
            "891/891 [==============================] - 0s 71us/step - loss: 0.7343 - acc: 0.6689\n",
            "Epoch 26/100\n",
            "891/891 [==============================] - 0s 76us/step - loss: 0.6257 - acc: 0.6846\n",
            "Epoch 27/100\n",
            "891/891 [==============================] - 0s 74us/step - loss: 0.6376 - acc: 0.6667\n",
            "Epoch 28/100\n",
            "891/891 [==============================] - 0s 70us/step - loss: 0.7319 - acc: 0.6420\n",
            "Epoch 29/100\n",
            "891/891 [==============================] - 0s 77us/step - loss: 0.6656 - acc: 0.6891\n",
            "Epoch 30/100\n",
            "891/891 [==============================] - 0s 74us/step - loss: 0.6299 - acc: 0.6880\n",
            "Epoch 31/100\n",
            "891/891 [==============================] - 0s 75us/step - loss: 0.6691 - acc: 0.6689\n",
            "Epoch 32/100\n",
            "891/891 [==============================] - 0s 76us/step - loss: 0.8443 - acc: 0.6341\n",
            "Epoch 33/100\n",
            "891/891 [==============================] - 0s 81us/step - loss: 0.6546 - acc: 0.6936\n",
            "Epoch 34/100\n",
            "891/891 [==============================] - 0s 75us/step - loss: 0.6953 - acc: 0.6667\n",
            "Epoch 35/100\n",
            "891/891 [==============================] - 0s 71us/step - loss: 0.6006 - acc: 0.6925\n",
            "Epoch 36/100\n",
            "891/891 [==============================] - 0s 71us/step - loss: 0.6156 - acc: 0.7059\n",
            "Epoch 37/100\n",
            "891/891 [==============================] - 0s 73us/step - loss: 0.6323 - acc: 0.6846\n",
            "Epoch 38/100\n",
            "891/891 [==============================] - 0s 76us/step - loss: 0.6414 - acc: 0.6902\n",
            "Epoch 39/100\n",
            "891/891 [==============================] - 0s 79us/step - loss: 0.5636 - acc: 0.7228\n",
            "Epoch 40/100\n",
            "891/891 [==============================] - 0s 75us/step - loss: 0.5686 - acc: 0.7104\n",
            "Epoch 41/100\n",
            "891/891 [==============================] - 0s 70us/step - loss: 0.6151 - acc: 0.7026\n",
            "Epoch 42/100\n",
            "891/891 [==============================] - 0s 72us/step - loss: 0.6227 - acc: 0.7149\n",
            "Epoch 43/100\n",
            "891/891 [==============================] - 0s 73us/step - loss: 0.6182 - acc: 0.6880\n",
            "Epoch 44/100\n",
            "891/891 [==============================] - 0s 87us/step - loss: 0.7660 - acc: 0.6667\n",
            "Epoch 45/100\n",
            "891/891 [==============================] - 0s 75us/step - loss: 0.9847 - acc: 0.6319\n",
            "Epoch 46/100\n",
            "891/891 [==============================] - 0s 73us/step - loss: 0.6417 - acc: 0.7003\n",
            "Epoch 47/100\n",
            "891/891 [==============================] - 0s 72us/step - loss: 0.5969 - acc: 0.6981\n",
            "Epoch 48/100\n",
            "891/891 [==============================] - 0s 77us/step - loss: 0.5841 - acc: 0.7082\n",
            "Epoch 49/100\n",
            "891/891 [==============================] - 0s 76us/step - loss: 0.7418 - acc: 0.6667\n",
            "Epoch 50/100\n",
            "891/891 [==============================] - 0s 74us/step - loss: 0.9310 - acc: 0.6375\n",
            "Epoch 51/100\n",
            "891/891 [==============================] - 0s 75us/step - loss: 0.5934 - acc: 0.7194\n",
            "Epoch 52/100\n",
            "891/891 [==============================] - 0s 84us/step - loss: 0.5581 - acc: 0.7239\n",
            "Epoch 53/100\n",
            "891/891 [==============================] - 0s 75us/step - loss: 0.5621 - acc: 0.7363\n",
            "Epoch 54/100\n",
            "891/891 [==============================] - 0s 73us/step - loss: 0.5869 - acc: 0.7026\n",
            "Epoch 55/100\n",
            "891/891 [==============================] - 0s 71us/step - loss: 0.5558 - acc: 0.7160\n",
            "Epoch 56/100\n",
            "891/891 [==============================] - 0s 72us/step - loss: 0.5499 - acc: 0.7239\n",
            "Epoch 57/100\n",
            "891/891 [==============================] - 0s 74us/step - loss: 0.5500 - acc: 0.7306\n",
            "Epoch 58/100\n",
            "891/891 [==============================] - 0s 74us/step - loss: 0.5581 - acc: 0.7295\n",
            "Epoch 59/100\n",
            "891/891 [==============================] - 0s 78us/step - loss: 0.6441 - acc: 0.6902\n",
            "Epoch 60/100\n",
            "891/891 [==============================] - 0s 74us/step - loss: 0.5892 - acc: 0.7082\n",
            "Epoch 61/100\n",
            "891/891 [==============================] - 0s 69us/step - loss: 0.5764 - acc: 0.7284\n",
            "Epoch 62/100\n",
            "891/891 [==============================] - 0s 79us/step - loss: 0.5861 - acc: 0.7306\n",
            "Epoch 63/100\n",
            "891/891 [==============================] - 0s 73us/step - loss: 0.5552 - acc: 0.7183\n",
            "Epoch 64/100\n",
            "891/891 [==============================] - 0s 73us/step - loss: 0.5309 - acc: 0.7329\n",
            "Epoch 65/100\n",
            "891/891 [==============================] - 0s 78us/step - loss: 0.5250 - acc: 0.7419\n",
            "Epoch 66/100\n",
            "891/891 [==============================] - 0s 73us/step - loss: 0.6009 - acc: 0.7217\n",
            "Epoch 67/100\n",
            "891/891 [==============================] - 0s 70us/step - loss: 0.5252 - acc: 0.7508\n",
            "Epoch 68/100\n",
            "891/891 [==============================] - 0s 74us/step - loss: 0.5294 - acc: 0.7374\n",
            "Epoch 69/100\n",
            "891/891 [==============================] - 0s 72us/step - loss: 0.5503 - acc: 0.7486\n",
            "Epoch 70/100\n",
            "891/891 [==============================] - 0s 77us/step - loss: 0.5225 - acc: 0.7587\n",
            "Epoch 71/100\n",
            "891/891 [==============================] - 0s 74us/step - loss: 0.5021 - acc: 0.7800\n",
            "Epoch 72/100\n",
            "891/891 [==============================] - 0s 73us/step - loss: 0.5299 - acc: 0.7587\n",
            "Epoch 73/100\n",
            "891/891 [==============================] - 0s 76us/step - loss: 0.5532 - acc: 0.7217\n",
            "Epoch 74/100\n",
            "891/891 [==============================] - 0s 73us/step - loss: 0.5261 - acc: 0.7430\n",
            "Epoch 75/100\n",
            "891/891 [==============================] - 0s 74us/step - loss: 0.5032 - acc: 0.7565\n",
            "Epoch 76/100\n",
            "891/891 [==============================] - 0s 71us/step - loss: 0.5212 - acc: 0.7565\n",
            "Epoch 77/100\n",
            "891/891 [==============================] - 0s 73us/step - loss: 0.4901 - acc: 0.7609\n",
            "Epoch 78/100\n",
            "891/891 [==============================] - 0s 84us/step - loss: 0.5554 - acc: 0.7441\n",
            "Epoch 79/100\n",
            "891/891 [==============================] - 0s 71us/step - loss: 0.5033 - acc: 0.7699\n",
            "Epoch 80/100\n",
            "891/891 [==============================] - 0s 74us/step - loss: 0.4905 - acc: 0.7632\n",
            "Epoch 81/100\n",
            "891/891 [==============================] - 0s 73us/step - loss: 0.4907 - acc: 0.7767\n",
            "Epoch 82/100\n",
            "891/891 [==============================] - 0s 73us/step - loss: 0.5092 - acc: 0.7654\n",
            "Epoch 83/100\n",
            "891/891 [==============================] - 0s 73us/step - loss: 0.5441 - acc: 0.7329\n",
            "Epoch 84/100\n",
            "891/891 [==============================] - 0s 73us/step - loss: 0.4898 - acc: 0.7789\n",
            "Epoch 85/100\n",
            "891/891 [==============================] - 0s 76us/step - loss: 0.5381 - acc: 0.7430\n",
            "Epoch 86/100\n",
            "891/891 [==============================] - 0s 71us/step - loss: 0.5704 - acc: 0.7385\n",
            "Epoch 87/100\n",
            "891/891 [==============================] - 0s 73us/step - loss: 0.4945 - acc: 0.7823\n",
            "Epoch 88/100\n",
            "891/891 [==============================] - 0s 74us/step - loss: 0.5006 - acc: 0.7677\n",
            "Epoch 89/100\n",
            "891/891 [==============================] - 0s 75us/step - loss: 0.5133 - acc: 0.7688\n",
            "Epoch 90/100\n",
            "891/891 [==============================] - 0s 74us/step - loss: 0.4924 - acc: 0.7811\n",
            "Epoch 91/100\n",
            "891/891 [==============================] - 0s 75us/step - loss: 0.4928 - acc: 0.7722\n",
            "Epoch 92/100\n",
            "891/891 [==============================] - 0s 85us/step - loss: 0.5032 - acc: 0.7666\n",
            "Epoch 93/100\n",
            "891/891 [==============================] - 0s 69us/step - loss: 0.5592 - acc: 0.7329\n",
            "Epoch 94/100\n",
            "891/891 [==============================] - 0s 73us/step - loss: 0.4880 - acc: 0.7733\n",
            "Epoch 95/100\n",
            "891/891 [==============================] - 0s 71us/step - loss: 0.4941 - acc: 0.7755\n",
            "Epoch 96/100\n",
            "891/891 [==============================] - 0s 79us/step - loss: 0.5126 - acc: 0.7632\n",
            "Epoch 97/100\n",
            "891/891 [==============================] - 0s 71us/step - loss: 0.5215 - acc: 0.7486\n",
            "Epoch 98/100\n",
            "891/891 [==============================] - 0s 70us/step - loss: 0.4555 - acc: 0.8025\n",
            "Epoch 99/100\n",
            "891/891 [==============================] - 0s 75us/step - loss: 0.5492 - acc: 0.7497\n",
            "Epoch 100/100\n",
            "891/891 [==============================] - 0s 73us/step - loss: 0.4865 - acc: 0.7733\n"
          ],
          "name": "stdout"
        },
        {
          "output_type": "execute_result",
          "data": {
            "text/plain": [
              "<keras.callbacks.History at 0x7f3065183668>"
            ]
          },
          "metadata": {
            "tags": []
          },
          "execution_count": 306
        }
      ]
    },
    {
      "cell_type": "code",
      "metadata": {
        "id": "4TZPOEhhKpi1",
        "colab_type": "code",
        "colab": {}
      },
      "source": [
        "predictions = model.predict(testset, batch_size=32)"
      ],
      "execution_count": 0,
      "outputs": []
    },
    {
      "cell_type": "code",
      "metadata": {
        "id": "pjt-vh5M_zCr",
        "colab_type": "code",
        "colab": {
          "base_uri": "https://localhost:8080/",
          "height": 67
        },
        "outputId": "4a314a15-2858-4348-b76e-84f7f4cdc140"
      },
      "source": [
        "predictions = predictions.flatten() \n",
        "print(predictions[:10])\n",
        "for index,i in enumerate(predictions):\n",
        "  if i > 0.5:\n",
        "    predictions[index] = 1\n",
        "  else:\n",
        "    predictions[index] = 0\n",
        "\n",
        "print(predictions[:10])"
      ],
      "execution_count": 308,
      "outputs": [
        {
          "output_type": "stream",
          "text": [
            "[0.03292763 0.02193117 0.01709634 0.03734237 0.13082281 0.09168661\n",
            " 0.11587337 0.2604177  0.18613842 0.13057068]\n",
            "[0. 0. 0. 0. 0. 0. 0. 0. 0. 0.]\n"
          ],
          "name": "stdout"
        }
      ]
    },
    {
      "cell_type": "code",
      "metadata": {
        "id": "l0TszlnR_4u2",
        "colab_type": "code",
        "colab": {}
      },
      "source": [
        "passid = np.array(testset.iloc[:, 0:1])\n",
        "passid = passid.flatten()\n"
      ],
      "execution_count": 0,
      "outputs": []
    },
    {
      "cell_type": "code",
      "metadata": {
        "id": "J1PzmwZTAjnq",
        "colab_type": "code",
        "colab": {}
      },
      "source": [
        "predictions = pd.DataFrame({'PassengerId': passid, 'Survived': predictions}, index=[i for i in range(418)])"
      ],
      "execution_count": 0,
      "outputs": []
    },
    {
      "cell_type": "code",
      "metadata": {
        "id": "IVkKoupCCAwq",
        "colab_type": "code",
        "colab": {}
      },
      "source": [
        "predictions.to_csv('Submission.csv', header=False, index=False)"
      ],
      "execution_count": 0,
      "outputs": []
    }
  ]
}